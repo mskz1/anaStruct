{
 "cells": [
  {
   "cell_type": "code",
   "execution_count": 17,
   "metadata": {},
   "outputs": [
    {
     "name": "stdout",
     "output_type": "stream",
     "text": [
      "IPython console for SymPy 1.0 (Python 3.6.1-64-bit) (ground types: python)\n",
      "\n",
      "These commands were executed:\n",
      ">>> from __future__ import division\n",
      ">>> from sympy import *\n",
      ">>> x, y, z, t = symbols('x y z t')\n",
      ">>> k, m, n = symbols('k m n', integer=True)\n",
      ">>> f, g, h = symbols('f g h', cls=Function)\n",
      ">>> init_printing()\n",
      "\n",
      "Documentation can be found at http://docs.sympy.org/1.0/\n"
     ]
    }
   ],
   "source": [
    "from sympy import *\n",
    "init_session()\n",
    "%matplotlib inline"
   ]
  },
  {
   "cell_type": "code",
   "execution_count": 2,
   "metadata": {},
   "outputs": [
    {
     "data": {
      "image/png": "[encoded data removed]",
      "text/plain": [
       "     4          \n",
       "    d           \n",
       "EI⋅───(w(x)) - q\n",
       "     4          \n",
       "   dx           "
      ]
     },
     "execution_count": 2,
     "metadata": {},
     "output_type": "execute_result"
    }
   ],
   "source": [
    "EI, q, kl, kr, L = symbols(\"EI, q, kl, kr, L\")\n",
    "w = symbols(\"w\", cls=Function)\n",
    "dv = EI * diff(w(x), x, x, x, x) - q \n",
    "dv"
   ]
  },
  {
   "cell_type": "code",
   "execution_count": 3,
   "metadata": {},
   "outputs": [
    {
     "data": {
      "image/png": "[encoded data removed]",
      "text/plain": [
       "                                4\n",
       "                2       3    q⋅x \n",
       "C₁ + C₂⋅x + C₃⋅x  + C₄⋅x  + ─────\n",
       "                            24⋅EI"
      ]
     },
     "execution_count": 3,
     "metadata": {},
     "output_type": "execute_result"
    }
   ],
   "source": [
    "w = dsolve(dv).rhs\n",
    "w"
   ]
  },
  {
   "cell_type": "code",
   "execution_count": 4,
   "metadata": {
    "collapsed": true
   },
   "outputs": [],
   "source": [
    "phi = -diff(w, x)\n",
    "kappa = diff(phi, x)\n",
    "M = kappa * EI\n",
    "V = diff(M, x)"
   ]
  },
  {
   "cell_type": "code",
   "execution_count": 5,
   "metadata": {
    "collapsed": true
   },
   "outputs": [],
   "source": [
    "eq_1 = Eq(w).subs({x:0})\n",
    "eq_2 = Eq(w).subs({x:L})\n",
    "eq_3 = Eq(lhs=M, rhs=kl * phi).subs({x:0})\n",
    "eq_4 = Eq(lhs=M, rhs=-kr * phi).subs({x:L})"
   ]
  },
  {
   "cell_type": "code",
   "execution_count": 11,
   "metadata": {},
   "outputs": [
    {
     "data": {
      "image/png": "[encoded data removed]",
      "text/plain": [
       "⎧                          3                                                  \n",
       "⎪                         L ⋅q⋅(6⋅EI + L⋅kr)                                  \n",
       "⎨C₁: 0, C₂: ──────────────────────────────────────────────, C₃: ──────────────\n",
       "⎪              ⎛     2                            2      ⎞            ⎛     2 \n",
       "⎩           12⋅⎝12⋅EI  + 4⋅EI⋅L⋅kl + 4⋅EI⋅L⋅kr + L ⋅kl⋅kr⎠      24⋅EI⋅⎝12⋅EI  \n",
       "\n",
       " 3                                            ⎛     2                         \n",
       "L ⋅kl⋅q⋅(6⋅EI + L⋅kr)                    -L⋅q⋅⎝12⋅EI  + 5⋅EI⋅L⋅kl + 3⋅EI⋅L⋅kr \n",
       "───────────────────────────────────, C₄: ─────────────────────────────────────\n",
       "                           2      ⎞            ⎛     2                        \n",
       "+ 4⋅EI⋅L⋅kl + 4⋅EI⋅L⋅kr + L ⋅kl⋅kr⎠      12⋅EI⋅⎝12⋅EI  + 4⋅EI⋅L⋅kl + 4⋅EI⋅L⋅kr\n",
       "\n",
       "   2      ⎞ ⎫\n",
       "+ L ⋅kl⋅kr⎠ ⎪\n",
       "────────────⎬\n",
       "    2      ⎞⎪\n",
       " + L ⋅kl⋅kr⎠⎭"
      ]
     },
     "execution_count": 11,
     "metadata": {},
     "output_type": "execute_result"
    }
   ],
   "source": [
    "val = solve((eq_1, eq_2, eq_3, eq_4), ('C1, C2, C3, C4'))\n",
    "val"
   ]
  },
  {
   "cell_type": "code",
   "execution_count": 12,
   "metadata": {
    "collapsed": true
   },
   "outputs": [],
   "source": [
    "w = w.subs(val)\n",
    "kappa = kappa.subs(val)\n",
    "M = M.subs(val)\n",
    "V = V.subs(val)"
   ]
  },
  {
   "cell_type": "code",
   "execution_count": 75,
   "metadata": {},
   "outputs": [
    {
     "data": {
      "image/png": "[encoded data removed]",
      "text/plain": [
       "<matplotlib.figure.Figure at 0x7d278cbba8>"
      ]
     },
     "metadata": {},
     "output_type": "display_data"
    },
    {
     "data": {
      "text/plain": [
       "<sympy.plotting.plot.Plot at 0x7d27c415f8>"
      ]
     },
     "execution_count": 75,
     "metadata": {},
     "output_type": "execute_result"
    }
   ],
   "source": [
    "plot(-M.subs({q:10, L:10, EI:100, kr:100*100, kl:100*100}), (x, 0, 10))"
   ]
  },
  {
   "cell_type": "code",
   "execution_count": 76,
   "metadata": {},
   "outputs": [
    {
     "data": {
      "image/png": "[encoded data removed]",
      "text/plain": [
       "-8333.16666999993"
      ]
     },
     "execution_count": 76,
     "metadata": {},
     "output_type": "execute_result"
    }
   ],
   "source": [
    "M.subs({q:10, L:100, EI:100, kr:1000*100, kl:kr, x:0}).evalf()"
   ]
  },
  {
   "cell_type": "code",
   "execution_count": 77,
   "metadata": {},
   "outputs": [
    {
     "data": {
      "image/png": "[encoded data removed]",
      "text/plain": [
       "   ⎛                 3                                          ⎛     2       \n",
       "   ⎜                L ⋅kl⋅q⋅(6⋅EI + L⋅kr)                 L⋅q⋅x⋅⎝12⋅EI  + 5⋅EI\n",
       "EI⋅⎜- ───────────────────────────────────────────────── + ────────────────────\n",
       "   ⎜        ⎛     2                            2      ⎞         ⎛     2       \n",
       "   ⎝  12⋅EI⋅⎝12⋅EI  + 4⋅EI⋅L⋅kl + 4⋅EI⋅L⋅kr + L ⋅kl⋅kr⎠    2⋅EI⋅⎝12⋅EI  + 4⋅EI\n",
       "\n",
       "                     2      ⎞      2⎞\n",
       "⋅L⋅kl + 3⋅EI⋅L⋅kr + L ⋅kl⋅kr⎠   q⋅x ⎟\n",
       "───────────────────────────── - ────⎟\n",
       "                     2      ⎞   2⋅EI⎟\n",
       "⋅L⋅kl + 4⋅EI⋅L⋅kr + L ⋅kl⋅kr⎠       ⎠"
      ]
     },
     "execution_count": 77,
     "metadata": {},
     "output_type": "execute_result"
    }
   ],
   "source": [
    "M"
   ]
  },
  {
   "cell_type": "code",
   "execution_count": 104,
   "metadata": {},
   "outputs": [
    {
     "data": {
      "text/plain": [
       "'EI*(-L**3*kl*q*(6*EI + L*kr)/(12*EI*(12*EI**2 + 4*EI*L*kl + 4*EI*L*kr + L**2*kl*kr)) + L*q*x*(12*EI**2 + 5*EI*L*kl + 3*EI*L*kr + L**2*kl*kr)/(2*EI*(12*EI**2 + 4*EI*L*kl + 4*EI*L*kr + L**2*kl*kr)) - q*x**2/(2*EI))'"
      ]
     },
     "execution_count": 104,
     "metadata": {},
     "output_type": "execute_result"
    }
   ],
   "source": [
    "M.__str__()"
   ]
  },
  {
   "cell_type": "code",
   "execution_count": 105,
   "metadata": {},
   "outputs": [
    {
     "data": {
      "image/png": "[encoded data removed]",
      "text/plain": [
       "   ⎛    ⎛     2                            2      ⎞       ⎞\n",
       "   ⎜L⋅q⋅⎝12⋅EI  + 5⋅EI⋅L⋅kl + 3⋅EI⋅L⋅kr + L ⋅kl⋅kr⎠    q⋅x⎟\n",
       "EI⋅⎜──────────────────────────────────────────────── - ───⎟\n",
       "   ⎜     ⎛     2                            2      ⎞    EI⎟\n",
       "   ⎝2⋅EI⋅⎝12⋅EI  + 4⋅EI⋅L⋅kl + 4⋅EI⋅L⋅kr + L ⋅kl⋅kr⎠      ⎠"
      ]
     },
     "execution_count": 105,
     "metadata": {},
     "output_type": "execute_result"
    }
   ],
   "source": [
    "V"
   ]
  },
  {
   "cell_type": "code",
   "execution_count": 106,
   "metadata": {},
   "outputs": [
    {
     "data": {
      "text/plain": [
       "'EI*(L*q*(12*EI**2 + 5*EI*L*kl + 3*EI*L*kr + L**2*kl*kr)/(2*EI*(12*EI**2 + 4*EI*L*kl + 4*EI*L*kr + L**2*kl*kr)) - q*x/EI)'"
      ]
     },
     "execution_count": 106,
     "metadata": {},
     "output_type": "execute_result"
    }
   ],
   "source": [
    "V.__str__()"
   ]
  }
 ],
 "metadata": {
  "kernelspec": {
   "display_name": "Python 3",
   "language": "python",
   "name": "python3"
  },
  "language_info": {
   "codemirror_mode": {
    "name": "ipython",
    "version": 3
   },
   "file_extension": ".py",
   "mimetype": "text/x-python",
   "name": "python",
   "nbconvert_exporter": "python",
   "pygments_lexer": "ipython3",
   "version": "3.6.1"
  },
  "latex_envs": {
   "bibliofile": "biblio.bib",
   "cite_by": "apalike",
   "current_citInitial": 1.0,
   "eqLabelWithNumbers": true,
   "eqNumInitial": 0.0
  }
 },
 "nbformat": 4,
 "nbformat_minor": 0
}
